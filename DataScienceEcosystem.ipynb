{
 "cells": [
  {
   "cell_type": "markdown",
   "id": "39b51e7b",
   "metadata": {},
   "source": [
    "# Data Science Tools and Ecosystem "
   ]
  },
  {
   "cell_type": "markdown",
   "id": "3dea0e7a",
   "metadata": {},
   "source": [
    "In this notebook, Data Science Tools and Ecosystem are summarized."
   ]
  },
  {
   "cell_type": "markdown",
   "id": "1aebdc45",
   "metadata": {},
   "source": [
    "Some of the popular languages that Data Scientists use are:\n",
    "1. Python \n",
    "2. SQL\n",
    "3. R\n",
    "4. Java \n",
    "5. Scala "
   ]
  },
  {
   "cell_type": "markdown",
   "id": "d71e5120",
   "metadata": {},
   "source": [
    "Some of the commonly used libraries used by Data Scientists include (both in R and Python):\n",
    "\n",
    "1. Sklearn \n",
    "2. ggplot\n",
    "3. Keras \n",
    "4. matplotlib\n",
    "5. numpy\n",
    "6. pandas\n",
    "7. caret"
   ]
  },
  {
   "cell_type": "markdown",
   "id": "ee29d36f",
   "metadata": {},
   "source": [
    "|Data Science Tools  |\n",
    "|---------------|\n",
    "| MongoDB |\n",
    "| Hadoop |\n",
    "| Anaconda |\n",
    "| R |\n",
    "| Python |\n"
   ]
  },
  {
   "cell_type": "markdown",
   "id": "b343c353",
   "metadata": {},
   "source": [
    "### Below are a few examples of evaluating arithmetic expressions in Python"
   ]
  },
  {
   "cell_type": "code",
   "execution_count": 4,
   "id": "669590d6",
   "metadata": {},
   "outputs": [
    {
     "data": {
      "text/plain": [
       "17"
      ]
     },
     "execution_count": 4,
     "metadata": {},
     "output_type": "execute_result"
    }
   ],
   "source": [
    "(3*4)+5 #This a simple arithmetic expression to mutiply then add integers"
   ]
  },
  {
   "cell_type": "code",
   "execution_count": 7,
   "id": "b6dd76f2",
   "metadata": {},
   "outputs": [
    {
     "name": "stdout",
     "output_type": "stream",
     "text": [
      "3.3333333333333335\n"
     ]
    }
   ],
   "source": [
    "mintune_to_hour= 200/60 #This will convert 200 minutes to hours by diving by 60\n",
    "print(mintune_to_hour)"
   ]
  },
  {
   "cell_type": "markdown",
   "id": "73ed06e9",
   "metadata": {},
   "source": [
    "**Objectives:**\n",
    "List popular languages for Data Science:\n",
    "\n",
    "* Python \n",
    "* R\n",
    "* SQL\n"
   ]
  },
  {
   "cell_type": "markdown",
   "id": "23c1f33d",
   "metadata": {},
   "source": [
    "## Author \n",
    "Semanto Mondal "
   ]
  }
 ],
 "metadata": {
  "kernelspec": {
   "display_name": "Python 3 (ipykernel)",
   "language": "python",
   "name": "python3"
  },
  "language_info": {
   "codemirror_mode": {
    "name": "ipython",
    "version": 3
   },
   "file_extension": ".py",
   "mimetype": "text/x-python",
   "name": "python",
   "nbconvert_exporter": "python",
   "pygments_lexer": "ipython3",
   "version": "3.9.12"
  }
 },
 "nbformat": 4,
 "nbformat_minor": 5
}
